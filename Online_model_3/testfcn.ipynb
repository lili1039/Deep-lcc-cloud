{
 "cells": [
  {
   "cell_type": "code",
   "execution_count": 4,
   "metadata": {},
   "outputs": [
    {
     "name": "stdout",
     "output_type": "stream",
     "text": [
      "Generated Matrix:\n",
      "[[0. 1. 0. 0. 0. 0. 0. 0.]\n",
      " [0. 0. 1. 0. 0. 0. 0. 0.]\n",
      " [0. 0. 0. 1. 0. 0. 0. 0.]\n",
      " [1. 0. 0. 0. 0. 0. 0. 0.]\n",
      " [0. 0. 0. 0. 1. 0. 0. 0.]\n",
      " [0. 0. 0. 0. 0. 1. 0. 0.]\n",
      " [0. 0. 0. 0. 0. 0. 1. 0.]\n",
      " [0. 0. 0. 0. 0. 0. 0. 1.]]\n"
     ]
    }
   ],
   "source": [
    "import numpy as np\n",
    "\n",
    "def create_matrix(kon, kappa):\n",
    "    # Identity matrices\n",
    "    I_kon = np.eye(kon)  # kon x kon identity matrix\n",
    "    I_1 = np.eye(1)      # 1 x 1 identity matrix\n",
    "    I_kappa_kon = np.eye(kappa - kon)  # (kappa-kon) x (kappa-kon) identity matrix\n",
    "\n",
    "    # Zero matrices\n",
    "    Z_11 = np.zeros((kon, 1))\n",
    "    Z_13 = np.zeros((kon, kappa - kon))\n",
    "    Z_22 = np.zeros((1, kon))\n",
    "    Z_23 = np.zeros((1, kappa - kon))\n",
    "    Z_31 = np.zeros((kappa - kon, 1))\n",
    "    Z_32 = np.zeros((kappa - kon, kon))\n",
    "\n",
    "    # Assemble the block matrix\n",
    "    matrix = np.block([\n",
    "        [Z_11, I_kon, Z_13],\n",
    "        [I_1, Z_22, Z_23],\n",
    "        [Z_31, Z_32, I_kappa_kon]\n",
    "    ])\n",
    "\n",
    "    return matrix\n",
    "\n",
    "# Example usage\n",
    "kon = 3\n",
    "kappa = 7\n",
    "result = create_matrix(kon, kappa)\n",
    "print(\"Generated Matrix:\")\n",
    "print(result)\n"
   ]
  },
  {
   "cell_type": "code",
   "execution_count": 5,
   "metadata": {},
   "outputs": [
    {
     "name": "stdout",
     "output_type": "stream",
     "text": [
      "[[0.5 0.  0.  ... 0.  0.  0. ]\n",
      " [0.  0.5 0.  ... 0.  0.  0. ]\n",
      " [0.  0.  0.5 ... 0.  0.  0. ]\n",
      " ...\n",
      " [0.  0.  0.  ... 1.6 0.  0. ]\n",
      " [0.  0.  0.  ... 0.  1.6 0. ]\n",
      " [0.  0.  0.  ... 0.  0.  1. ]]\n"
     ]
    }
   ],
   "source": [
    "import numpy as np\n",
    "import redis\n",
    "import pickle\n",
    "import timeit\n",
    "from scipy.sparse import csr_matrix\n",
    "\n",
    "\n",
    "\n",
    "rs = redis.StrictRedis(host='172.18.0.1',port=6379,db=2,password=\"chlpw1039\") \n",
    "print(pickle.loads(rs.mget(f'M_in_CAV_0')[0]))\n",
    "K = pickle.loads(rs.mget(f'K_in_CAV_0')[0])\n",
    "Yif = pickle.loads(rs.mget(f'Yif_in_CAV_0')[0])\n",
    "z_plus = pickle.loads(rs.mget(f'g_initial_in_CAV_0')[0])\n",
    "# 提前将K转换为稀疏矩阵（只需一次）\n",
    "K_sparse = csr_matrix(K)\n",
    "\n",
    "# 密集矩阵版本\n",
    "def dense_version():\n",
    "    return K @ Yif @ z_plus\n",
    "\n",
    "# 稀疏优化版本\n",
    "def sparse_version():\n",
    "    temp = K_sparse.dot(Yif)\n",
    "    return temp.dot(z_plus)\n",
    "\n",
    "# 测试运行时间\n",
    "t_dense = timeit.timeit(dense_version, number=1000)\n",
    "t_sparse = timeit.timeit(sparse_version, number=1000)\n",
    "print(f\"密集版本: {t_dense:.4f}s，稀疏版本: {t_sparse:.4f}s，加速比: {t_dense/t_sparse:.1f}x\")\n"
   ]
  },
  {
   "cell_type": "code",
   "execution_count": 6,
   "metadata": {},
   "outputs": [
    {
     "name": "stdout",
     "output_type": "stream",
     "text": [
      "[1 2 3 3 1]\n"
     ]
    }
   ],
   "source": [
    "import numpy as np\n",
    "\n",
    "s = np.array([1,2,3,4,0])\n",
    "s_plus = s.clip(min=1,max=3)\n",
    "print(s_plus)"
   ]
  }
 ],
 "metadata": {
  "kernelspec": {
   "display_name": "Py310",
   "language": "python",
   "name": "python3"
  },
  "language_info": {
   "codemirror_mode": {
    "name": "ipython",
    "version": 3
   },
   "file_extension": ".py",
   "mimetype": "text/x-python",
   "name": "python",
   "nbconvert_exporter": "python",
   "pygments_lexer": "ipython3",
   "version": "3.10.13"
  },
  "orig_nbformat": 4
 },
 "nbformat": 4,
 "nbformat_minor": 2
}
