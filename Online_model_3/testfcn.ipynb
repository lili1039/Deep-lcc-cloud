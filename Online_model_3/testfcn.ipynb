{
 "cells": [
  {
   "cell_type": "code",
   "execution_count": 4,
   "metadata": {},
   "outputs": [
    {
     "name": "stdout",
     "output_type": "stream",
     "text": [
      "Generated Matrix:\n",
      "[[0. 1. 0. 0. 0. 0. 0. 0.]\n",
      " [0. 0. 1. 0. 0. 0. 0. 0.]\n",
      " [0. 0. 0. 1. 0. 0. 0. 0.]\n",
      " [1. 0. 0. 0. 0. 0. 0. 0.]\n",
      " [0. 0. 0. 0. 1. 0. 0. 0.]\n",
      " [0. 0. 0. 0. 0. 1. 0. 0.]\n",
      " [0. 0. 0. 0. 0. 0. 1. 0.]\n",
      " [0. 0. 0. 0. 0. 0. 0. 1.]]\n"
     ]
    }
   ],
   "source": [
    "import numpy as np\n",
    "\n",
    "def create_matrix(kon, kappa):\n",
    "    # Identity matrices\n",
    "    I_kon = np.eye(kon)  # kon x kon identity matrix\n",
    "    I_1 = np.eye(1)      # 1 x 1 identity matrix\n",
    "    I_kappa_kon = np.eye(kappa - kon)  # (kappa-kon) x (kappa-kon) identity matrix\n",
    "\n",
    "    # Zero matrices\n",
    "    Z_11 = np.zeros((kon, 1))\n",
    "    Z_13 = np.zeros((kon, kappa - kon))\n",
    "    Z_22 = np.zeros((1, kon))\n",
    "    Z_23 = np.zeros((1, kappa - kon))\n",
    "    Z_31 = np.zeros((kappa - kon, 1))\n",
    "    Z_32 = np.zeros((kappa - kon, kon))\n",
    "\n",
    "    # Assemble the block matrix\n",
    "    matrix = np.block([\n",
    "        [Z_11, I_kon, Z_13],\n",
    "        [I_1, Z_22, Z_23],\n",
    "        [Z_31, Z_32, I_kappa_kon]\n",
    "    ])\n",
    "\n",
    "    return matrix\n",
    "\n",
    "# Example usage\n",
    "kon = 3\n",
    "kappa = 7\n",
    "result = create_matrix(kon, kappa)\n",
    "print(\"Generated Matrix:\")\n",
    "print(result)\n"
   ]
  },
  {
   "cell_type": "code",
   "execution_count": 6,
   "metadata": {},
   "outputs": [
    {
     "ename": "TypeError",
     "evalue": "a bytes-like object is required, not 'NoneType'",
     "output_type": "error",
     "traceback": [
      "\u001b[0;31m---------------------------------------------------------------------------\u001b[0m",
      "\u001b[0;31mTypeError\u001b[0m                                 Traceback (most recent call last)",
      "Cell \u001b[0;32mIn[6], line 7\u001b[0m\n\u001b[1;32m      3\u001b[0m \u001b[39mimport\u001b[39;00m \u001b[39mpickle\u001b[39;00m\n\u001b[1;32m      6\u001b[0m rs \u001b[39m=\u001b[39m redis\u001b[39m.\u001b[39mStrictRedis(host\u001b[39m=\u001b[39m\u001b[39m'\u001b[39m\u001b[39m172.18.0.1\u001b[39m\u001b[39m'\u001b[39m,port\u001b[39m=\u001b[39m\u001b[39m6379\u001b[39m,db\u001b[39m=\u001b[39m\u001b[39m2\u001b[39m,password\u001b[39m=\u001b[39m\u001b[39m\"\u001b[39m\u001b[39mchlpw1039\u001b[39m\u001b[39m\"\u001b[39m) \n\u001b[0;32m----> 7\u001b[0m \u001b[39mprint\u001b[39m(pickle\u001b[39m.\u001b[39;49mloads(rs\u001b[39m.\u001b[39;49mmget(\u001b[39mf\u001b[39;49m\u001b[39m'\u001b[39;49m\u001b[39merror_1_2_0\u001b[39;49m\u001b[39m'\u001b[39;49m)[\u001b[39m0\u001b[39;49m]))\n",
      "\u001b[0;31mTypeError\u001b[0m: a bytes-like object is required, not 'NoneType'"
     ]
    }
   ],
   "source": [
    "import numpy as np\n",
    "import redis\n",
    "import pickle\n",
    "\n",
    "\n",
    "rs = redis.StrictRedis(host='172.18.0.1',port=6379,db=2,password=\"chlpw1039\") \n",
    "print(pickle.loads(rs.mget(f'error_1_2_0')[0]))"
   ]
  }
 ],
 "metadata": {
  "kernelspec": {
   "display_name": "Py310",
   "language": "python",
   "name": "python3"
  },
  "language_info": {
   "codemirror_mode": {
    "name": "ipython",
    "version": 3
   },
   "file_extension": ".py",
   "mimetype": "text/x-python",
   "name": "python",
   "nbconvert_exporter": "python",
   "pygments_lexer": "ipython3",
   "version": "3.10.13"
  },
  "orig_nbformat": 4
 },
 "nbformat": 4,
 "nbformat_minor": 2
}
