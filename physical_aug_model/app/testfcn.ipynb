{
 "cells": [
  {
   "cell_type": "code",
   "execution_count": null,
   "metadata": {},
   "outputs": [],
   "source": [
    "from util import Hankel_matrix\n",
    "import numpy as np \n",
    "\n",
    "u = np.arange(30)\n",
    "L = 30\n",
    "# print(u)\n",
    "# print(Hankel_matrix(u,L))"
   ]
  },
  {
   "cell_type": "code",
   "execution_count": 5,
   "metadata": {},
   "outputs": [],
   "source": [
    "try:\n",
    "    a = [1,2]\n",
    "    print(a+1)\n",
    "except:\n",
    "    pass\n",
    "    "
   ]
  },
  {
   "cell_type": "code",
   "execution_count": 16,
   "metadata": {},
   "outputs": [
    {
     "name": "stdout",
     "output_type": "stream",
     "text": [
      "[[0, 0], [0, 151], [151, 302]]\n",
      "[[-39, 192], [192, 273], [273, 424]]\n",
      "2\n"
     ]
    },
    {
     "ename": "ValueError",
     "evalue": "zero-size array to reduction operation maximum which has no identity",
     "output_type": "error",
     "traceback": [
      "\u001b[0;31m---------------------------------------------------------------------------\u001b[0m",
      "\u001b[0;31mValueError\u001b[0m                                Traceback (most recent call last)",
      "Cell \u001b[0;32mIn[16], line 17\u001b[0m\n\u001b[1;32m     15\u001b[0m new_u \u001b[39m=\u001b[39m Su[\u001b[39m0\u001b[39m,\u001b[39m302\u001b[39m:\u001b[39m377\u001b[39m]\n\u001b[1;32m     16\u001b[0m np\u001b[39m.\u001b[39msavetxt(\u001b[39m'\u001b[39m\u001b[39mtest.csv\u001b[39m\u001b[39m'\u001b[39m, new_u, fmt\u001b[39m=\u001b[39m\u001b[39m'\u001b[39m\u001b[39m%.6f\u001b[39;00m\u001b[39m'\u001b[39m, delimiter\u001b[39m=\u001b[39m\u001b[39m'\u001b[39m\u001b[39m,\u001b[39m\u001b[39m'\u001b[39m)\n\u001b[0;32m---> 17\u001b[0m \u001b[39mprint\u001b[39m(whetherPE(Hankel_matrix(new_u,\u001b[39m76\u001b[39;49m)))\n",
      "File \u001b[0;32m~/chl/Deep-lcc-cloud/physical_aug_model/app/util.py:25\u001b[0m, in \u001b[0;36mwhetherPE\u001b[0;34m(U)\u001b[0m\n\u001b[1;32m     23\u001b[0m \u001b[39mdef\u001b[39;00m \u001b[39mwhetherPE\u001b[39m(U):\n\u001b[1;32m     24\u001b[0m     rows,cols \u001b[39m=\u001b[39m U\u001b[39m.\u001b[39mshape\n\u001b[0;32m---> 25\u001b[0m     \u001b[39mif\u001b[39;00m np\u001b[39m.\u001b[39;49mlinalg\u001b[39m.\u001b[39;49mmatrix_rank(U) \u001b[39m==\u001b[39m rows:\n\u001b[1;32m     26\u001b[0m         \u001b[39mreturn\u001b[39;00m \u001b[39mTrue\u001b[39;00m\n\u001b[1;32m     27\u001b[0m     \u001b[39melse\u001b[39;00m:\n",
      "File \u001b[0;32m~/anaconda3/envs/Py310/lib/python3.10/site-packages/numpy/linalg/linalg.py:1924\u001b[0m, in \u001b[0;36mmatrix_rank\u001b[0;34m(A, tol, hermitian)\u001b[0m\n\u001b[1;32m   1922\u001b[0m S \u001b[39m=\u001b[39m svd(A, compute_uv\u001b[39m=\u001b[39m\u001b[39mFalse\u001b[39;00m, hermitian\u001b[39m=\u001b[39mhermitian)\n\u001b[1;32m   1923\u001b[0m \u001b[39mif\u001b[39;00m tol \u001b[39mis\u001b[39;00m \u001b[39mNone\u001b[39;00m:\n\u001b[0;32m-> 1924\u001b[0m     tol \u001b[39m=\u001b[39m S\u001b[39m.\u001b[39;49mmax(axis\u001b[39m=\u001b[39;49m\u001b[39m-\u001b[39;49m\u001b[39m1\u001b[39;49m, keepdims\u001b[39m=\u001b[39;49m\u001b[39mTrue\u001b[39;49;00m) \u001b[39m*\u001b[39m \u001b[39mmax\u001b[39m(A\u001b[39m.\u001b[39mshape[\u001b[39m-\u001b[39m\u001b[39m2\u001b[39m:]) \u001b[39m*\u001b[39m finfo(S\u001b[39m.\u001b[39mdtype)\u001b[39m.\u001b[39meps\n\u001b[1;32m   1925\u001b[0m \u001b[39melse\u001b[39;00m:\n\u001b[1;32m   1926\u001b[0m     tol \u001b[39m=\u001b[39m asarray(tol)[\u001b[39m.\u001b[39m\u001b[39m.\u001b[39m\u001b[39m.\u001b[39m, newaxis]\n",
      "File \u001b[0;32m~/anaconda3/envs/Py310/lib/python3.10/site-packages/numpy/core/_methods.py:41\u001b[0m, in \u001b[0;36m_amax\u001b[0;34m(a, axis, out, keepdims, initial, where)\u001b[0m\n\u001b[1;32m     39\u001b[0m \u001b[39mdef\u001b[39;00m \u001b[39m_amax\u001b[39m(a, axis\u001b[39m=\u001b[39m\u001b[39mNone\u001b[39;00m, out\u001b[39m=\u001b[39m\u001b[39mNone\u001b[39;00m, keepdims\u001b[39m=\u001b[39m\u001b[39mFalse\u001b[39;00m,\n\u001b[1;32m     40\u001b[0m           initial\u001b[39m=\u001b[39m_NoValue, where\u001b[39m=\u001b[39m\u001b[39mTrue\u001b[39;00m):\n\u001b[0;32m---> 41\u001b[0m     \u001b[39mreturn\u001b[39;00m umr_maximum(a, axis, \u001b[39mNone\u001b[39;49;00m, out, keepdims, initial, where)\n",
      "\u001b[0;31mValueError\u001b[0m: zero-size array to reduction operation maximum which has no identity"
     ]
    }
   ],
   "source": [
    "import redis\n",
    "import pickle\n",
    "import numpy as np\n",
    "from util import whetherPE,Hankel_matrix\n",
    "\n",
    "rs = redis.StrictRedis(host='127.0.0.1',db=2, port=6379,password=\"chlpw1039\")\n",
    "value = pickle.loads(rs.mget(f'ds_timeflag_in_CAV_0')[0])\n",
    "print(value)\n",
    "value = pickle.loads(rs.mget(f'ds_flag_in_CAV_0')[0])\n",
    "print(value)\n",
    "value = pickle.loads(rs.mget(f'ds_num_in_CAV_0')[0])\n",
    "print(value)\n",
    "\n",
    "Su = pickle.loads(rs.mget(f'Su_in_CAV_0')[0])\n",
    "new_u = Su[0,302:377]\n",
    "np.savetxt('test.csv', new_u, fmt='%.6f', delimiter=',')\n",
    "print(whetherPE(Hankel_matrix(new_u,76)))"
   ]
  }
 ],
 "metadata": {
  "kernelspec": {
   "display_name": "Py310",
   "language": "python",
   "name": "python3"
  },
  "language_info": {
   "codemirror_mode": {
    "name": "ipython",
    "version": 3
   },
   "file_extension": ".py",
   "mimetype": "text/x-python",
   "name": "python",
   "nbconvert_exporter": "python",
   "pygments_lexer": "ipython3",
   "version": "3.10.13"
  },
  "orig_nbformat": 4
 },
 "nbformat": 4,
 "nbformat_minor": 2
}
